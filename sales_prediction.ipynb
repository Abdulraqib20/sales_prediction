{
 "cells": [
  {
   "cell_type": "markdown",
   "id": "f868fc64-61e2-477f-8c70-bb91d4333d8a",
   "metadata": {},
   "source": [
    "# SALES PREDICTION"
   ]
  },
  {
   "cell_type": "markdown",
   "id": "49b65232-a703-458d-aadb-fe8258545758",
   "metadata": {},
   "source": [
    "### Problem Statement\n",
    "We are to build a model which predicts sales based on the money spent on different platforms for marketing.\n",
    "\n",
    "### Data\n",
    "The advertising dataset from Industries.Co will be used to analyse the relationship between 'TV advertising' and 'sales' using a simple linear regression model.\n",
    "\n",
    "In this notebook, we'll build a linear regression model to predict Sales using an appropriate predictor variable"
   ]
  },
  {
   "cell_type": "markdown",
   "id": "d3d9a02e-a731-4d35-a0ec-143b5ec0fab2",
   "metadata": {},
   "source": [
    "### Importing Required libraries"
   ]
  },
  {
   "cell_type": "code",
   "execution_count": 1,
   "id": "31626f44-3e64-480c-be0b-a331ded9e744",
   "metadata": {},
   "outputs": [],
   "source": [
    "import numpy as np\n",
    "import pandas as pd\n",
    "import matplotlib.pyplot as plt\n",
    "from lab_utils_multi import  load_house_data, run_gradient_descent \n",
    "from lab_utils_multi import  norm_plot, plt_equal_scale, plot_cost_i_w\n",
    "from lab_utils_common import dlc\n",
    "import copy, math\n",
    "np.set_printoptions(precision=2)\n",
    "plt.style.use('./deeplearning.mplstyle')"
   ]
  },
  {
   "cell_type": "markdown",
   "id": "8e7975af-3ab3-4a2d-b09d-4ada42d5e67a",
   "metadata": {},
   "source": [
    "### Loading the Dataset"
   ]
  },
  {
   "cell_type": "code",
   "execution_count": 2,
   "id": "66af2d2c-a269-4e0f-9f54-f0c81a835044",
   "metadata": {},
   "outputs": [
    {
     "data": {
      "text/html": [
       "<div>\n",
       "<style scoped>\n",
       "    .dataframe tbody tr th:only-of-type {\n",
       "        vertical-align: middle;\n",
       "    }\n",
       "\n",
       "    .dataframe tbody tr th {\n",
       "        vertical-align: top;\n",
       "    }\n",
       "\n",
       "    .dataframe thead th {\n",
       "        text-align: right;\n",
       "    }\n",
       "</style>\n",
       "<table border=\"1\" class=\"dataframe\">\n",
       "  <thead>\n",
       "    <tr style=\"text-align: right;\">\n",
       "      <th></th>\n",
       "      <th>TV</th>\n",
       "      <th>Radio</th>\n",
       "      <th>Newspaper</th>\n",
       "      <th>Sales</th>\n",
       "    </tr>\n",
       "  </thead>\n",
       "  <tbody>\n",
       "    <tr>\n",
       "      <th>0</th>\n",
       "      <td>230.1</td>\n",
       "      <td>37.8</td>\n",
       "      <td>69.2</td>\n",
       "      <td>22.1</td>\n",
       "    </tr>\n",
       "    <tr>\n",
       "      <th>1</th>\n",
       "      <td>44.5</td>\n",
       "      <td>39.3</td>\n",
       "      <td>45.1</td>\n",
       "      <td>10.4</td>\n",
       "    </tr>\n",
       "    <tr>\n",
       "      <th>2</th>\n",
       "      <td>17.2</td>\n",
       "      <td>45.9</td>\n",
       "      <td>69.3</td>\n",
       "      <td>12.0</td>\n",
       "    </tr>\n",
       "    <tr>\n",
       "      <th>3</th>\n",
       "      <td>151.5</td>\n",
       "      <td>41.3</td>\n",
       "      <td>58.5</td>\n",
       "      <td>16.5</td>\n",
       "    </tr>\n",
       "    <tr>\n",
       "      <th>4</th>\n",
       "      <td>180.8</td>\n",
       "      <td>10.8</td>\n",
       "      <td>58.4</td>\n",
       "      <td>17.9</td>\n",
       "    </tr>\n",
       "  </tbody>\n",
       "</table>\n",
       "</div>"
      ],
      "text/plain": [
       "      TV  Radio  Newspaper  Sales\n",
       "0  230.1   37.8       69.2   22.1\n",
       "1   44.5   39.3       45.1   10.4\n",
       "2   17.2   45.9       69.3   12.0\n",
       "3  151.5   41.3       58.5   16.5\n",
       "4  180.8   10.8       58.4   17.9"
      ]
     },
     "execution_count": 2,
     "metadata": {},
     "output_type": "execute_result"
    }
   ],
   "source": [
    "data = pd.read_csv('advertising.csv')\n",
    "data.head()"
   ]
  },
  {
   "cell_type": "markdown",
   "id": "22b5133a-0d16-4aad-854f-d39c73c50322",
   "metadata": {},
   "source": [
    "### Inspecting the Dataset"
   ]
  },
  {
   "cell_type": "code",
   "execution_count": 3,
   "id": "ab577821-48c7-4518-af82-ab35cd8f2167",
   "metadata": {},
   "outputs": [
    {
     "data": {
      "text/plain": [
       "(200, 4)"
      ]
     },
     "execution_count": 3,
     "metadata": {},
     "output_type": "execute_result"
    }
   ],
   "source": [
    "data.shape"
   ]
  },
  {
   "cell_type": "code",
   "execution_count": 4,
   "id": "09988d82-14e8-4c90-a172-6e2ba367437e",
   "metadata": {},
   "outputs": [
    {
     "data": {
      "text/plain": [
       "<bound method DataFrame.info of         TV  Radio  Newspaper  Sales\n",
       "0    230.1   37.8       69.2   22.1\n",
       "1     44.5   39.3       45.1   10.4\n",
       "2     17.2   45.9       69.3   12.0\n",
       "3    151.5   41.3       58.5   16.5\n",
       "4    180.8   10.8       58.4   17.9\n",
       "..     ...    ...        ...    ...\n",
       "195   38.2    3.7       13.8    7.6\n",
       "196   94.2    4.9        8.1   14.0\n",
       "197  177.0    9.3        6.4   14.8\n",
       "198  283.6   42.0       66.2   25.5\n",
       "199  232.1    8.6        8.7   18.4\n",
       "\n",
       "[200 rows x 4 columns]>"
      ]
     },
     "execution_count": 4,
     "metadata": {},
     "output_type": "execute_result"
    }
   ],
   "source": [
    "data.info"
   ]
  },
  {
   "cell_type": "code",
   "execution_count": 6,
   "id": "cb15eac4-8613-4e56-9e65-11d8c84019d5",
   "metadata": {},
   "outputs": [
    {
     "data": {
      "text/html": [
       "<div>\n",
       "<style scoped>\n",
       "    .dataframe tbody tr th:only-of-type {\n",
       "        vertical-align: middle;\n",
       "    }\n",
       "\n",
       "    .dataframe tbody tr th {\n",
       "        vertical-align: top;\n",
       "    }\n",
       "\n",
       "    .dataframe thead th {\n",
       "        text-align: right;\n",
       "    }\n",
       "</style>\n",
       "<table border=\"1\" class=\"dataframe\">\n",
       "  <thead>\n",
       "    <tr style=\"text-align: right;\">\n",
       "      <th></th>\n",
       "      <th>TV</th>\n",
       "      <th>Radio</th>\n",
       "      <th>Newspaper</th>\n",
       "      <th>Sales</th>\n",
       "    </tr>\n",
       "  </thead>\n",
       "  <tbody>\n",
       "    <tr>\n",
       "      <th>count</th>\n",
       "      <td>200.000000</td>\n",
       "      <td>200.000000</td>\n",
       "      <td>200.000000</td>\n",
       "      <td>200.000000</td>\n",
       "    </tr>\n",
       "    <tr>\n",
       "      <th>mean</th>\n",
       "      <td>147.042500</td>\n",
       "      <td>23.264000</td>\n",
       "      <td>30.554000</td>\n",
       "      <td>15.130500</td>\n",
       "    </tr>\n",
       "    <tr>\n",
       "      <th>std</th>\n",
       "      <td>85.854236</td>\n",
       "      <td>14.846809</td>\n",
       "      <td>21.778621</td>\n",
       "      <td>5.283892</td>\n",
       "    </tr>\n",
       "    <tr>\n",
       "      <th>min</th>\n",
       "      <td>0.700000</td>\n",
       "      <td>0.000000</td>\n",
       "      <td>0.300000</td>\n",
       "      <td>1.600000</td>\n",
       "    </tr>\n",
       "    <tr>\n",
       "      <th>25%</th>\n",
       "      <td>74.375000</td>\n",
       "      <td>9.975000</td>\n",
       "      <td>12.750000</td>\n",
       "      <td>11.000000</td>\n",
       "    </tr>\n",
       "    <tr>\n",
       "      <th>50%</th>\n",
       "      <td>149.750000</td>\n",
       "      <td>22.900000</td>\n",
       "      <td>25.750000</td>\n",
       "      <td>16.000000</td>\n",
       "    </tr>\n",
       "    <tr>\n",
       "      <th>75%</th>\n",
       "      <td>218.825000</td>\n",
       "      <td>36.525000</td>\n",
       "      <td>45.100000</td>\n",
       "      <td>19.050000</td>\n",
       "    </tr>\n",
       "    <tr>\n",
       "      <th>max</th>\n",
       "      <td>296.400000</td>\n",
       "      <td>49.600000</td>\n",
       "      <td>114.000000</td>\n",
       "      <td>27.000000</td>\n",
       "    </tr>\n",
       "  </tbody>\n",
       "</table>\n",
       "</div>"
      ],
      "text/plain": [
       "               TV       Radio   Newspaper       Sales\n",
       "count  200.000000  200.000000  200.000000  200.000000\n",
       "mean   147.042500   23.264000   30.554000   15.130500\n",
       "std     85.854236   14.846809   21.778621    5.283892\n",
       "min      0.700000    0.000000    0.300000    1.600000\n",
       "25%     74.375000    9.975000   12.750000   11.000000\n",
       "50%    149.750000   22.900000   25.750000   16.000000\n",
       "75%    218.825000   36.525000   45.100000   19.050000\n",
       "max    296.400000   49.600000  114.000000   27.000000"
      ]
     },
     "execution_count": 6,
     "metadata": {},
     "output_type": "execute_result"
    }
   ],
   "source": [
    "data.describe()"
   ]
  },
  {
   "cell_type": "code",
   "execution_count": 7,
   "id": "55e997a4-14c3-43e5-8763-3426fa45545e",
   "metadata": {},
   "outputs": [
    {
     "data": {
      "text/plain": [
       "TV           0\n",
       "Radio        0\n",
       "Newspaper    0\n",
       "Sales        0\n",
       "dtype: int64"
      ]
     },
     "execution_count": 7,
     "metadata": {},
     "output_type": "execute_result"
    }
   ],
   "source": [
    "data.isnull().sum()"
   ]
  },
  {
   "cell_type": "code",
   "execution_count": 11,
   "id": "37d2402c-2be3-4a15-8f94-cfbd7827c1e4",
   "metadata": {},
   "outputs": [
    {
     "data": {
      "text/plain": [
       "<AxesSubplot:>"
      ]
     },
     "execution_count": 11,
     "metadata": {},
     "output_type": "execute_result"
    },
    {
     "data": {
      "image/png": "[encoded data removed]",
      "text/plain": [
       "<Figure size 432x288 with 2 Axes>"
      ]
     },
     "metadata": {
      "needs_background": "light"
     },
     "output_type": "display_data"
    }
   ],
   "source": [
    "import seaborn as sns\n",
    "sns.heatmap(data.corr(), cmap='Blues_r', annot=True)"
   ]
  },
  {
   "cell_type": "markdown",
   "id": "7d37f49c-868c-4f25-972f-f7aadce7dcfb",
   "metadata": {},
   "source": [
    "### Data Visualization"
   ]
  },
  {
   "cell_type": "code",
   "execution_count": 15,
   "id": "f86f82a2-617e-4ad2-97c0-6f4be552fa1b",
   "metadata": {},
   "outputs": [
    {
     "data": {
      "image/png": "[encoded data removed]",
      "text/plain": [
       "<Figure size 864x360 with 3 Axes>"
      ]
     },
     "metadata": {
      "needs_background": "light"
     },
     "output_type": "display_data"
    }
   ],
   "source": [
    "fig, ax = plt.subplots(1, 3, figsize=(12, 5), sharey=True)\n",
    "for i in range(len(ax)):\n",
    "    ax[i].scatter(X_train[:,i], y_train)\n",
    "    ax[i].set_xlabel(X_features[i])\n",
    "ax[0].set_ylabel(\"Sales\")\n",
    "plt.show()"
   ]
  },
  {
   "cell_type": "code",
   "execution_count": 18,
   "id": "63740823-0f02-4411-98b4-4b5dd8ecec34",
   "metadata": {},
   "outputs": [],
   "source": [
    "# import seaborn as sns\n",
    "# sns.pairplot(data, x_vars=['TV', 'Newspaper', 'Radio'], y_vars='Sales', height=4, aspect=1, kind='scatter')\n",
    "# plt.show()"
   ]
  },
  {
   "cell_type": "markdown",
   "id": "1cea0fb5-c6f0-4e1b-a18c-e8aaf5fce34d",
   "metadata": {},
   "source": [
    "### Creating the feature and target variables"
   ]
  },
  {
   "cell_type": "code",
   "execution_count": 19,
   "id": "f01c0277-b11e-4f4e-b646-7c607b33bac7",
   "metadata": {},
   "outputs": [],
   "source": [
    "X_train = data.iloc[:, :3]\n",
    "y_train = data.iloc[:, 3]\n",
    "X_train = X_train.values\n",
    "y_train = y_train.values"
   ]
  },
  {
   "cell_type": "code",
   "execution_count": 20,
   "id": "0fa0f90f-ba30-4f2d-9c06-3e8f2487c206",
   "metadata": {},
   "outputs": [],
   "source": [
    "X_features = ['TV','Radio','Newspaper']"
   ]
  },
  {
   "cell_type": "markdown",
   "id": "db770269-1bd0-4aec-b153-d02d65b694b7",
   "metadata": {},
   "source": [
    "### Parameter vector w(weights) and b(bias)"
   ]
  },
  {
   "cell_type": "code",
   "execution_count": 24,
   "id": "fc384977-ed3c-44b9-a443-d3cff120bb63",
   "metadata": {},
   "outputs": [],
   "source": [
    "w_init = np.zeros(3)\n",
    "b_init = 0.2"
   ]
  },
  {
   "cell_type": "markdown",
   "id": "949ea612-6f5f-4da4-921d-fcadb0ce41fd",
   "metadata": {},
   "source": [
    "### Computing the Cost Function"
   ]
  },
  {
   "cell_type": "code",
   "execution_count": 25,
   "id": "41d40c6b-0830-4d07-b0d1-b8b0b2ef4c69",
   "metadata": {},
   "outputs": [],
   "source": [
    "def compute_cost(X, y, w, b): \n",
    "    \"\"\"\n",
    "    compute cost\n",
    "    Args:\n",
    "      X (ndarray (m,n)): Data, m examples with n features\n",
    "      y (ndarray (m,)) : target values\n",
    "      w (ndarray (n,)) : model parameters  \n",
    "      b (scalar)       : model parameter\n",
    "      \n",
    "    Returns:\n",
    "      cost (scalar): cost\n",
    "    \"\"\"\n",
    "    m = X.shape[0]\n",
    "    cost = 0.0\n",
    "    for i in range(m):                                \n",
    "        f_wb_i = np.dot(X[i], w) + b           #(n,)(n,) = scalar (see np.dot)\n",
    "        cost = cost + (f_wb_i - y[i])**2       #scalar\n",
    "    cost = cost / (2 * m)                      #scalar    \n",
    "    return cost"
   ]
  },
  {
   "cell_type": "code",
   "execution_count": 26,
   "id": "10177303-7e94-4126-bb1c-7823212e8a94",
   "metadata": {},
   "outputs": [
    {
     "name": "stdout",
     "output_type": "stream",
     "text": [
      "X_train: [[230.1  37.8  69.2]\n",
      " [ 44.5  39.3  45.1]\n",
      " [ 17.2  45.9  69.3]\n",
      " [151.5  41.3  58.5]\n",
      " [180.8  10.8  58.4]]\n",
      "y_train: [22.1 10.4 12.  16.5 17.9]\n",
      "w_init: [0. 0. 0.]\n",
      "b_init: 0.2\n"
     ]
    }
   ],
   "source": [
    "print('X_train:', X_train[:5])\n",
    "print('y_train:', y_train[:5])\n",
    "print('w_init:', w_init)\n",
    "print('b_init:', b_init)"
   ]
  },
  {
   "cell_type": "code",
   "execution_count": 27,
   "id": "827b7469-14b9-450a-b5a0-eb37b5cfb9d9",
   "metadata": {},
   "outputs": [
    {
     "name": "stdout",
     "output_type": "stream",
     "text": [
      "Cost at optimal w : 125.34987500000003\n"
     ]
    }
   ],
   "source": [
    "cost = compute_cost(X_train, y_train, w_init, b_init)\n",
    "print(f'Cost at optimal w : {cost}')"
   ]
  },
  {
   "cell_type": "markdown",
   "id": "d376486d-6db2-498d-8c4b-420190106d4a",
   "metadata": {},
   "source": [
    "### Computing the Gradient Descent"
   ]
  },
  {
   "cell_type": "code",
   "execution_count": 28,
   "id": "765aa223-c57f-4f52-bb79-dbe34dee600d",
   "metadata": {},
   "outputs": [],
   "source": [
    "def compute_gradient(X, y, w, b): \n",
    "    \"\"\"\n",
    "    Computes the gradient for linear regression \n",
    "    Args:\n",
    "      X (ndarray (m,n)): Data, m examples with n features\n",
    "      y (ndarray (m,)) : target values\n",
    "      w (ndarray (n,)) : model parameters  \n",
    "      b (scalar)       : model parameter\n",
    "      \n",
    "    Returns:\n",
    "      dj_dw (ndarray (n,)): The gradient of the cost w.r.t. the parameters w. \n",
    "      dj_db (scalar):       The gradient of the cost w.r.t. the parameter b. \n",
    "    \"\"\"\n",
    "    m,n = X.shape           #(number of examples, number of features)\n",
    "    dj_dw = np.zeros((n,))\n",
    "    dj_db = 0.\n",
    "\n",
    "    for i in range(m):                             \n",
    "        err = (np.dot(X[i], w) + b) - y[i]   \n",
    "        for j in range(n):                         \n",
    "            dj_dw[j] = dj_dw[j] + err * X[i, j]    \n",
    "        dj_db = dj_db + err                        \n",
    "    dj_dw = dj_dw / m                                \n",
    "    dj_db = dj_db / m                                \n",
    "        \n",
    "    return dj_db, dj_dw"
   ]
  },
  {
   "cell_type": "markdown",
   "id": "f09320e2-4182-4244-b06b-9902f07e190b",
   "metadata": {},
   "source": [
    "### Compute and display gradient"
   ]
  },
  {
   "cell_type": "code",
   "execution_count": 29,
   "id": "c9e86859-f5f6-40fb-921b-64a7fc502599",
   "metadata": {},
   "outputs": [
    {
     "name": "stdout",
     "output_type": "stream",
     "text": [
      "dj_db at initial w,b: -14.930499999999995\n",
      "dj_dw at initial w,b: \n",
      " [-2602.2   -374.63  -474.27]\n"
     ]
    }
   ],
   "source": [
    "tmp_dj_db, tmp_dj_dw = compute_gradient(X_train, y_train, w_init, b_init)\n",
    "print(f'dj_db at initial w,b: {tmp_dj_db}')\n",
    "print(f'dj_dw at initial w,b: \\n {tmp_dj_dw}')"
   ]
  },
  {
   "cell_type": "markdown",
   "id": "ed652f0b-fddf-448a-89ad-1a03e2fcae30",
   "metadata": {},
   "source": [
    "### Gradient Descent with multiple variables"
   ]
  },
  {
   "cell_type": "code",
   "execution_count": 30,
   "id": "ba567363-0516-4d54-a6c7-e63e421154b9",
   "metadata": {},
   "outputs": [],
   "source": [
    "def gradient_descent(X, y, w_in, b_in, cost_function, gradient_function, alpha, num_iters): \n",
    "    \"\"\"\n",
    "    Performs batch gradient descent to learn theta. Updates theta by taking \n",
    "    num_iters gradient steps with learning rate alpha\n",
    "    \n",
    "    Args:\n",
    "      X (ndarray (m,n))   : Data, m examples with n features\n",
    "      y (ndarray (m,))    : target values\n",
    "      w_in (ndarray (n,)) : initial model parameters  \n",
    "      b_in (scalar)       : initial model parameter\n",
    "      cost_function       : function to compute cost\n",
    "      gradient_function   : function to compute the gradient\n",
    "      alpha (float)       : Learning rate\n",
    "      num_iters (int)     : number of iterations to run gradient descent\n",
    "      \n",
    "    Returns:\n",
    "      w (ndarray (n,)) : Updated values of parameters \n",
    "      b (scalar)       : Updated value of parameter \n",
    "      \"\"\"\n",
    "    \n",
    "    # An array to store cost J and w's at each iteration primarily for graphing later\n",
    "    J_history = []\n",
    "    w = copy.deepcopy(w_in)  #avoid modifying global w within function\n",
    "    b = b_in\n",
    "    \n",
    "    for i in range(num_iters):\n",
    "\n",
    "        # Calculate the gradient and update the parameters\n",
    "        dj_db,dj_dw = gradient_function(X, y, w, b)   ##None\n",
    "\n",
    "        # Update Parameters using w, b, alpha and gradient\n",
    "        w = w - alpha * dj_dw               ##None\n",
    "        b = b - alpha * dj_db               ##None\n",
    "      \n",
    "        # Save cost J at each iteration\n",
    "        if i<100000:      # prevent resource exhaustion \n",
    "            J_history.append( cost_function(X, y, w, b))\n",
    "\n",
    "        # Print cost every at intervals 10 times or as many iterations if < 10\n",
    "        if i% math.ceil(num_iters / 10) == 0:\n",
    "            print(f\"Iteration {i:4d}: Cost {J_history[-1]:8.2f}   \")\n",
    "        \n",
    "    return w, b, J_history #return final w,b and J history for graphing"
   ]
  },
  {
   "cell_type": "code",
   "execution_count": 32,
   "id": "95ba09a8-59df-49f6-b6b7-c75b84668cab",
   "metadata": {
    "tags": []
   },
   "outputs": [
    {
     "name": "stdout",
     "output_type": "stream",
     "text": [
      "Iteration    0: Cost   124.73   \n",
      "Iteration 1000: Cost     5.46   \n",
      "Iteration 2000: Cost     4.52   \n",
      "Iteration 3000: Cost     4.01   \n",
      "Iteration 4000: Cost     3.72   \n",
      "Iteration 5000: Cost     3.53   \n",
      "Iteration 6000: Cost     3.41   \n",
      "Iteration 7000: Cost     3.31   \n",
      "Iteration 8000: Cost     3.24   \n",
      "Iteration 9000: Cost     3.18   \n",
      "w, b found by gradient descent: [0.07 0.12 0.05], 0.01 \n"
     ]
    }
   ],
   "source": [
    "# initialize parameters\n",
    "initial_w = np.zeros_like(w_init)\n",
    "initial_b = 0.\n",
    "# some gradient descent settings\n",
    "iterations = 10000\n",
    "alpha = 5.0e-7\n",
    "# run gradient descent \n",
    "w_final, b_final, J_hist = gradient_descent(X_train, y_train, initial_w, initial_b, compute_cost, compute_gradient, alpha, iterations)\n",
    "print(f\"w, b found by gradient descent: {w_final}, {b_final:0.2f} \")"
   ]
  },
  {
   "cell_type": "markdown",
   "id": "37a3b137-4bf2-476c-804c-2fb446a2dab3",
   "metadata": {},
   "source": [
    "### plot cost versus iteration"
   ]
  },
  {
   "cell_type": "code",
   "execution_count": 33,
   "id": "5b1c0586-ff48-4a17-af31-75eae980167b",
   "metadata": {},
   "outputs": [
    {
     "data": {
      "image/png": "[encoded data removed]",
      "text/plain": [
       "<Figure size 864x288 with 2 Axes>"
      ]
     },
     "metadata": {
      "needs_background": "light"
     },
     "output_type": "display_data"
    }
   ],
   "source": [
    "fig, (ax1, ax2) = plt.subplots(1, 2, constrained_layout=True, figsize=(12, 4))\n",
    "ax1.plot(J_hist)\n",
    "ax2.plot(100 + np.arange(len(J_hist[100:])), J_hist[100:])\n",
    "ax1.set_title(\"Cost vs. iteration\");  ax2.set_title(\"Cost vs. iteration (tail)\")\n",
    "ax1.set_ylabel('Cost')             ;  ax2.set_ylabel('Cost') \n",
    "ax1.set_xlabel('iteration step')   ;  ax2.set_xlabel('iteration step') \n",
    "plt.show()"
   ]
  },
  {
   "cell_type": "markdown",
   "id": "0458d596-7824-4bfb-9bf1-ff68d9bd96da",
   "metadata": {},
   "source": [
    "### Printing the first five results of the prediction"
   ]
  },
  {
   "cell_type": "code",
   "execution_count": 56,
   "id": "89ce17fa-d377-4023-9ed7-691d5cd9c9e1",
   "metadata": {},
   "outputs": [
    {
     "name": "stdout",
     "output_type": "stream",
     "text": [
      "1st prediction: 23.74, 1st target value: 22.1\n",
      "2nd prediction: 9.94, 2nd target value: 10.4\n",
      "3rd prediction: 10.05, 3rd target value: 12.0\n",
      "4th prediction: 18.20, 4th target value: 16.5\n",
      "5th prediction: 16.64, 5th target value: 17.9\n"
     ]
    }
   ],
   "source": [
    "print(f\"1st prediction: {np.dot(X_train[0], w_final) + b_final:0.2f}, 1st target value: {y_train[0]}\")\n",
    "print(f\"2nd prediction: {np.dot(X_train[1], w_final) + b_final:0.2f}, 2nd target value: {y_train[1]}\")\n",
    "print(f\"3rd prediction: {np.dot(X_train[2], w_final) + b_final:0.2f}, 3rd target value: {y_train[2]}\")\n",
    "print(f\"4th prediction: {np.dot(X_train[3], w_final) + b_final:0.2f}, 4th target value: {y_train[3]}\")\n",
    "print(f\"5th prediction: {np.dot(X_train[4], w_final) + b_final:0.2f}, 5th target value: {y_train[4]}\")"
   ]
  },
  {
   "cell_type": "code",
   "execution_count": 57,
   "id": "f6fb0064-59fa-4e5c-a156-d7ef7947970a",
   "metadata": {},
   "outputs": [],
   "source": [
    "# m = X_train.shape[0]\n",
    "# for i in range(m):\n",
    "#     print(f\"prediction: {np.dot(X_train[i], w_final) + b_final:0.2f}, target value: {y_train[i]}\")"
   ]
  },
  {
   "cell_type": "markdown",
   "id": "ebbc9f38-e37f-4916-81ad-b728e807a268",
   "metadata": {},
   "source": [
    "### Random predictions"
   ]
  },
  {
   "cell_type": "code",
   "execution_count": 60,
   "id": "ac0efd1f-7596-43a5-8a81-679e9956d08a",
   "metadata": {},
   "outputs": [],
   "source": [
    "X = np.array([230.0, 38, 69])\n",
    "X_1 = np.random.randn(3)"
   ]
  },
  {
   "cell_type": "code",
   "execution_count": 61,
   "id": "cc594f46-48b1-4d0a-8454-0a4caf02c324",
   "metadata": {},
   "outputs": [
    {
     "name": "stdout",
     "output_type": "stream",
     "text": [
      "prediction: 23.75\n",
      "prediction: -0.24\n"
     ]
    }
   ],
   "source": [
    "print(f\"prediction: {np.dot(X, w_final) + b_final:0.2f}\")\n",
    "print(f\"prediction: {np.dot(X_1, w_final) + b_final:0.2f}\")"
   ]
  },
  {
   "cell_type": "markdown",
   "id": "faec3459-8931-4af7-943d-72b7c87e6504",
   "metadata": {},
   "source": [
    "### Feature Scaling\n",
    "The technique to be used is called z-score normalization. After z-score normalization, all features will have a mean of 0 and a standard deviation of 1."
   ]
  },
  {
   "cell_type": "code",
   "execution_count": 131,
   "id": "89e737c9-c07a-40fe-8ccf-8f25d6d392cb",
   "metadata": {},
   "outputs": [],
   "source": [
    "def zscore_normalize_features(X):\n",
    "    \"\"\"\n",
    "    computes  X, zcore normalized by column\n",
    "    \n",
    "    Args:\n",
    "      X (ndarray (m,n))     : input data, m examples, n features\n",
    "      \n",
    "    Returns:\n",
    "      X_norm (ndarray (m,n)): input normalized by column\n",
    "      mu (ndarray (n,))     : mean of each feature\n",
    "      sigma (ndarray (n,))  : standard deviation of each feature\n",
    "    \"\"\"\n",
    "    # find the mean of each column/feature\n",
    "    mu     = np.mean(X, axis=0)                 # mu will have shape (n,)\n",
    "    # find the standard deviation of each column/feature\n",
    "    sigma  = np.std(X, axis=0)                  # sigma will have shape (n,)\n",
    "    # element-wise, subtract mu for that column from each example, divide by std for that column\n",
    "    X_norm = (X - mu) / sigma      \n",
    "\n",
    "    return (X_norm, mu, sigma)"
   ]
  },
  {
   "cell_type": "markdown",
   "id": "698ab194-63b5-411c-9943-9a3656a6cf0e",
   "metadata": {},
   "source": [
    "### Normalizing the original features"
   ]
  },
  {
   "cell_type": "code",
   "execution_count": 132,
   "id": "729f5722-283a-4f12-93d6-d0622a52e5da",
   "metadata": {},
   "outputs": [
    {
     "name": "stdout",
     "output_type": "stream",
     "text": [
      "X_mu = [147.04  23.26  30.55], \n",
      "X_sigma = [85.64 14.81 21.72]\n",
      "Peak to Peak range by column in Original        X:[295.7  49.6 113.7]\n",
      "Peak to Peak range by column in Normalized X:[3.45 3.35 5.23]\n"
     ]
    }
   ],
   "source": [
    "X_norm, X_mu, X_sigma = zscore_normalize_features(X_train)\n",
    "print(f\"X_mu = {X_mu}, \\nX_sigma = {X_sigma}\")\n",
    "print(f\"Peak to Peak range by column in Original        X:{np.ptp(X_train,axis=0)}\")   \n",
    "print(f\"Peak to Peak range by column in Normalized X:{np.ptp(X_norm,axis=0)}\")"
   ]
  },
  {
   "cell_type": "code",
   "execution_count": 133,
   "id": "491f59a7-08a7-4ab4-aec8-16ff27d66fa7",
   "metadata": {},
   "outputs": [
    {
     "data": {
      "image/png": "[encoded data removed]",
      "text/plain": [
       "<Figure size 864x216 with 6 Axes>"
      ]
     },
     "metadata": {
      "needs_background": "light"
     },
     "output_type": "display_data"
    },
    {
     "data": {
      "image/png": "[encoded data removed]",
      "text/plain": [
       "<Figure size 864x216 with 6 Axes>"
      ]
     },
     "metadata": {
      "needs_background": "light"
     },
     "output_type": "display_data"
    }
   ],
   "source": [
    "fig, ax = plt.subplots(1, 3, figsize=(12, 3))\n",
    "for i in range(len(ax)):\n",
    "    norm_plot(ax[i], X_train[:, i])\n",
    "    ax[i].set_xlabel(X_features[i])\n",
    "ax[0].set_ylabel(\"counts\");\n",
    "fig.suptitle(\"distribution of features before normalization\")\n",
    "plt.show()\n",
    "\n",
    "fig, ax = plt.subplots(1, 3, figsize=(12,3))\n",
    "for i in range(len(ax)):\n",
    "    norm_plot(ax[i], X_norm[:, i])\n",
    "    ax[i].set_xlabel(X_features[i])\n",
    "ax[0].set_ylabel(\"counts\"); \n",
    "fig.suptitle(\"distribution of features after normalization\")\n",
    "\n",
    "plt.show()"
   ]
  },
  {
   "cell_type": "code",
   "execution_count": 86,
   "id": "bc6d0d3b-3bbd-4623-8d0d-ffb06df0a899",
   "metadata": {},
   "outputs": [
    {
     "name": "stdout",
     "output_type": "stream",
     "text": [
      "Iteration    0: Cost   127.59   \n",
      "Iteration 10000: Cost     1.35   \n",
      "Iteration 20000: Cost     1.35   \n",
      "Iteration 30000: Cost     1.35   \n",
      "Iteration 40000: Cost     1.35   \n",
      "Iteration 50000: Cost     1.35   \n",
      "Iteration 60000: Cost     1.35   \n",
      "Iteration 70000: Cost     1.35   \n",
      "Iteration 80000: Cost     1.35   \n",
      "Iteration 90000: Cost     1.35   \n",
      "w, b found by gradient descent: [4.66 1.58 0.01], 15.13\n"
     ]
    }
   ],
   "source": [
    "# initialize parameters\n",
    "initial_w = np.zeros(3)\n",
    "initial_b = 0.\n",
    "# some gradient descent settings\n",
    "iterations = 100000\n",
    "alpha = 0.003\n",
    "# run gradient descent \n",
    "w_final_norm, b_final_norm, J_hist = gradient_descent(X_norm, y_train, initial_w, initial_b, compute_cost, compute_gradient, alpha, iterations)\n",
    "print(f\"w, b found by gradient descent: {w_final_norm}, {b_final_norm:0.2f}\")"
   ]
  },
  {
   "cell_type": "markdown",
   "id": "1b426c11-781a-430b-a4cf-f0e62fdeee52",
   "metadata": {},
   "source": [
    "### Predicting Target using Normalized Features"
   ]
  },
  {
   "cell_type": "code",
   "execution_count": 134,
   "id": "13989955-b203-4bb6-8282-35ff00207b0d",
   "metadata": {},
   "outputs": [
    {
     "data": {
      "image/png": "[encoded data removed]",
      "text/plain": [
       "<Figure size 864x216 with 3 Axes>"
      ]
     },
     "metadata": {
      "needs_background": "light"
     },
     "output_type": "display_data"
    }
   ],
   "source": [
    "m = X_norm.shape[0]\n",
    "yp = np.zeros(m)\n",
    "for i in range(m):\n",
    "    yp[i] = np.dot(X_norm[i], w_final_norm) + b_final_norm\n",
    "\n",
    "       \n",
    "fig, ax = plt.subplots(1, 3, figsize=(12, 3), sharey=True)\n",
    "for i in range(len(ax)):\n",
    "    ax[i].scatter(X_train[:,i], y_train, label = 'target')\n",
    "    ax[i].set_xlabel(X_features[i])\n",
    "    ax[i].scatter(X_train[:,i], yp, color=dlc[\"dlorange\"], label = 'prediction')\n",
    "ax[0].set_ylabel(\"Sales\")\n",
    "ax[0].legend()\n",
    "fig.suptitle(\"target versus prediction using z-score normalized model\")\n",
    "plt.show()"
   ]
  },
  {
   "cell_type": "markdown",
   "id": "f59cb104-2c9e-4524-a4bd-0c865308fdd9",
   "metadata": {},
   "source": [
    "### Printing the first five results of the prediction"
   ]
  },
  {
   "cell_type": "code",
   "execution_count": 135,
   "id": "68473c04-5a0c-45c8-8aec-4a8fd4b19830",
   "metadata": {},
   "outputs": [
    {
     "name": "stdout",
     "output_type": "stream",
     "text": [
      "1st prediction: 21.22, 1st target value: 22.1\n",
      "2nd prediction: 11.27, 2nd target value: 10.4\n",
      "3rd prediction: 10.50, 3rd target value: 12.0\n",
      "4th prediction: 17.31, 4th target value: 16.5\n",
      "5th prediction: 15.64, 5th target value: 17.9\n"
     ]
    }
   ],
   "source": [
    "print(f\"1st prediction: {np.dot(X_norm[0], w_final_norm) + b_final_norm:0.2f}, 1st target value: {y_train[0]}\")\n",
    "print(f\"2nd prediction: {np.dot(X_norm[1], w_final_norm) + b_final_norm:0.2f}, 2nd target value: {y_train[1]}\")\n",
    "print(f\"3rd prediction: {np.dot(X_norm[2], w_final_norm) + b_final_norm:0.2f}, 3rd target value: {y_train[2]}\")\n",
    "print(f\"4th prediction: {np.dot(X_norm[3], w_final_norm) + b_final_norm:0.2f}, 4th target value: {y_train[3]}\")\n",
    "print(f\"5th prediction: {np.dot(X_norm[4], w_final_norm) + b_final_norm:0.2f}, 5th target value: {y_train[4]}\")"
   ]
  },
  {
   "cell_type": "markdown",
   "id": "c3942087-ca8c-4f71-aa7b-da44439d20e4",
   "metadata": {},
   "source": [
    "### Random predictions"
   ]
  },
  {
   "cell_type": "code",
   "execution_count": 136,
   "id": "b3335ba4-b05a-4f62-b4a8-8ac3b689a5ec",
   "metadata": {},
   "outputs": [
    {
     "name": "stdout",
     "output_type": "stream",
     "text": [
      "[ 1.4  -0.88 -0.52]\n",
      "[ 1.11  0.2  -1.31]\n",
      "prediction: 20.26\n",
      "prediction: 20.63\n"
     ]
    }
   ],
   "source": [
    "# X = np.array([230.0, 38, 69])\n",
    "X = X_train[3]\n",
    "X_norm_1, X_mu, X_sigma = zscore_normalize_features(X)\n",
    "X_norm_1 = (X - X_mu) / X_sigma\n",
    "print(X_norm_1)\n",
    "X_1 = np.random.randn(3)\n",
    "X_1_norm, X_mu, X_sigma = zscore_normalize_features(X_1)\n",
    "X_1_norm = (X_1 - X_mu) / X_sigma\n",
    "print(X_1_norm)\n",
    "print(f\"prediction: {np.dot(X_norm_1, w_final_norm) + b_final_norm:0.2f}\")\n",
    "print(f\"prediction: {np.dot(X_1_norm, w_final_norm) + b_final_norm:0.2f}\")"
   ]
  },
  {
   "cell_type": "code",
   "execution_count": 142,
   "id": "337e4b4d-1795-4da0-b4c5-ae52797ca48d",
   "metadata": {},
   "outputs": [],
   "source": [
    "# m = X_norm.shape[0]\n",
    "# for i in range(m):\n",
    "#     print(f\"prediction: {np.dot(X_norm[i], w_final_norm) + b_final_norm:0.2f}, target value: {y_train[i]}\")"
   ]
  }
 ],
 "metadata": {
  "kernelspec": {
   "display_name": "Python 3 (ipykernel)",
   "language": "python",
   "name": "python3"
  },
  "language_info": {
   "codemirror_mode": {
    "name": "ipython",
    "version": 3
   },
   "file_extension": ".py",
   "mimetype": "text/x-python",
   "name": "python",
   "nbconvert_exporter": "python",
   "pygments_lexer": "ipython3",
   "version": "3.10.1"
  }
 },
 "nbformat": 4,
 "nbformat_minor": 5
}
